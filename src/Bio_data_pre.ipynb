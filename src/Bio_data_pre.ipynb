{
 "cells": [
  {
   "cell_type": "code",
   "execution_count": 7,
   "metadata": {},
   "outputs": [],
   "source": [
    "import os\n",
    "import pandas as pd\n",
    "import csv"
   ]
  },
  {
   "cell_type": "code",
   "execution_count": 2,
   "metadata": {},
   "outputs": [
    {
     "name": "stdout",
     "output_type": "stream",
     "text": [
      "Combined DataFrame saved as ../data/Microbiome_data/Microbiome_meta.csv\n"
     ]
    }
   ],
   "source": [
    "# Specify the folder path where the files are located\n",
    "folder_path = '../data/Microbiome_data/'\n",
    "\n",
    "# Initialize an empty DataFrame to store the combined data\n",
    "combined_df = pd.DataFrame()\n",
    "\n",
    "# List all files in the folder\n",
    "files = os.listdir(folder_path)\n",
    "\n",
    "# Filter files that have \"_meta\" in their names\n",
    "meta_files = [file for file in files if \"_meta\" in file]\n",
    "\n",
    "# Loop through the meta files and combine them into the DataFrame\n",
    "for meta_file in meta_files:\n",
    "    file_path = os.path.join(folder_path, meta_file)\n",
    "    \n",
    "    with open(file_path, 'r') as file:\n",
    "        meta = file.read()\n",
    "\n",
    "    meta_lines = meta.split('\\n')\n",
    "    meta_lines = [line.strip() for line in meta_lines if line.strip()]\n",
    "    meta_data = [line.split('\\t') for line in meta_lines]\n",
    "    meta_df = pd.DataFrame(meta_data)\n",
    "    \n",
    "    combined_df = pd.concat([combined_df, meta_df], ignore_index=True)\n",
    "\n",
    "# Save the combined DataFrame as a CSV file\n",
    "csv_file_path = os.path.join(folder_path, 'Microbiome_meta.csv')\n",
    "combined_df.to_csv(csv_file_path, index=False, header=0)\n",
    "\n",
    "# Print a message to confirm that the file has been saved\n",
    "print(f\"Combined DataFrame saved as {csv_file_path}\")"
   ]
  },
  {
   "cell_type": "code",
   "execution_count": 50,
   "metadata": {},
   "outputs": [
    {
     "name": "stdout",
     "output_type": "stream",
     "text": [
      "Transposed DataFrame saved as ../data/Microbiome_data/Microbiome_taxa_transposed.csv\n"
     ]
    }
   ],
   "source": [
    "\n",
    "# Specify the folder path where the files are located\n",
    "folder_path = '../data/Microbiome_data/'\n",
    "\n",
    "# Initialize an empty DataFrame to store the combined data\n",
    "combined_df = pd.DataFrame()\n",
    "\n",
    "# List all files in the folder\n",
    "files = os.listdir(folder_path)\n",
    "\n",
    "# Filter files that do not end with \"_meta\"\n",
    "taxa_files = [file for file in files if not file.endswith(\"_meta.txt\")]\n",
    "\n",
    "# Loop through the taxa files and combine them into the DataFrame\n",
    "for taxa_file in taxa_files:\n",
    "    file_path = os.path.join(folder_path, taxa_file)\n",
    "    \n",
    "    with open(file_path, 'r') as file:\n",
    "        taxa_data = file.read()\n",
    "\n",
    "    taxa_lines = taxa_data.split('\\n')\n",
    "    taxa_lines = [line.strip() for line in taxa_lines if line.strip()]\n",
    "    taxa_data = [line.split('\\t') for line in taxa_lines]\n",
    "    taxa_df = pd.DataFrame(taxa_data)\n",
    "    \n",
    "    combined_df = pd.concat([combined_df, taxa_df], ignore_index=True)\n",
    "\n",
    "# Transpose the combined DataFrame\n",
    "combined_df = combined_df.T\n",
    "\n",
    "# Save the transposed DataFrame as a CSV file\n",
    "csv_file_path = os.path.join(folder_path, 'Microbiome_taxa_transposed.csv')\n",
    "combined_df.to_csv(csv_file_path, index=False, header=0)\n",
    "\n",
    "# Print a message to confirm that the file has been saved\n",
    "print(f\"Transposed DataFrame saved as {csv_file_path}\")\n"
   ]
  },
  {
   "cell_type": "code",
   "execution_count": 8,
   "metadata": {},
   "outputs": [
    {
     "name": "stdout",
     "output_type": "stream",
     "text": [
      "The CSV file has 5908 rows.\n"
     ]
    }
   ],
   "source": [
    "file_path = '../data/Clean_data/Microbiome_meta.csv'\n",
    "\n",
    "# Open the CSV file and count rows\n",
    "with open(file_path, 'r') as csv_file:\n",
    "    csv_reader = csv.reader(csv_file)\n",
    "    row_count = sum(1 for row in csv_reader)\n",
    "\n",
    "print(f'The CSV file has {row_count} rows.')"
   ]
  },
  {
   "cell_type": "code",
   "execution_count": 52,
   "metadata": {},
   "outputs": [
    {
     "name": "stdout",
     "output_type": "stream",
     "text": [
      "The CSV file has 1359 rows.\n"
     ]
    }
   ],
   "source": [
    "file_path = '../data/Clean_data/Microbiome_taxa.csv'\n",
    "\n",
    "# Open the CSV file and count rows\n",
    "with open(file_path, 'r') as csv_file:\n",
    "    csv_reader = csv.reader(csv_file)\n",
    "    row_count = sum(1 for row in csv_reader)\n",
    "\n",
    "print(f'The CSV file has {row_count} rows.')"
   ]
  },
  {
   "cell_type": "code",
   "execution_count": 53,
   "metadata": {},
   "outputs": [
    {
     "name": "stderr",
     "output_type": "stream",
     "text": [
      "c:\\Users\\stefr\\anaconda3\\lib\\site-packages\\IPython\\core\\interactiveshell.py:3165: DtypeWarning: Columns (993,994,995,996,997,998,999,1000,1001,1002,1003,1004,1005,1006,1007,1008,1009,1010,1011,1012,1013,1014,1015,1016,1017,1018,1019,1020,1021,1022,1023,1024,1025,1026,1027,1028,1029,1030,1031,1032,1033,1034,1035,1036,1037,1038,1039,1040,1041,1042,1043,1044,1045,1046,1047,1048,1049,1050,1051,1052,1053,1054,1055,1056,1057,1058,1059,1060,1061,1062,1063,1064,1065,1066,1067,1068,1069,1070,1071,1072,1073,1074,1075,1076,1077,1078,1079,1080,1081,1082,1083,1084,1085,1086,1087,1088,1089,1090,1091,1092,1093,1094,1095,1096,1097,1098,1099,1100,1101,1102,1103,1104,1105,1106,1107,1108,1109,1110,1111,1112,1113,1114,1115,1116,1117,1118,1119,1120,1121,1122,1123,1124,1125,1126,1127,1128,1129,1130,1131,1132,1133,1134,1135,1136,1137,1138,1139,1140,1141,1142,1143,1144,1145,1146,1147,1148,1149,1150,1151,1152,1153,1154,1155,1156,1157,1158,1159,1160,1161,1162,1163,1164,1165,1166,1167,1168,1169,1170,1171,1172,1173,1174,1175,1176,1177,1178,1179,1180,1181,1182,1183,1184,1185,1186,1187,1188,1189,1190,1191,1192,1193,1194,1195,1196,1197,1198,1199,1200,1201,1202,1203,1204,1205,1206,1207,1208,1209,1210,1211,1212,1213,1214,1215,1216,1217,1218,1219,1220,1221,1222,1223,1224,1225,1226,1227,1228,1229,1230,1231,1232,1233,1234,1235,1236,1237,1238,1239,1240,1241,1242,1243,1244,1245,1246,1247,1248,1249,1250,1251,1252,1253,1254,1255,1256,1257,1258,1259,1260,1261,1262,1263,1264,1265,1266,1267,1268,1269,1270,1271,1272,1273,1274,1275,1276,1277,1278,1279,1280,1281,1282,1283,1284,1285,1286,1287,1288,1289,1290,1291,1292,1293,1294,1295,1296,1297,1298,1299,1300,1301,1302,1303,1304,1305,1306,1307,1308,1309,1310,1311,1312,1313,1314,1315,1316,1317,1318,1319,1320,1321,1322,1323,1324,1325,1326,1327,1328,1329,1330,1331,1332,1333,1334,1335,1336,1337,1338,1339,1340,1341,1342,1343,1344,1345,1346,1347,1348,1349,1350,1351,1352,1353,1354,1355,1356,1357,1358,1359,1360,1361,1362,1363,1364,1365,1366,1367,1368,1369,1370,1371,1372,1373,1374,1375,1376,1377,1378,1379,1380,1381,1382,1383,1384,1385,1386,1387,1388,1389,1390,1391,1392,1393,1394,1395,1396,1397,1398,1399,1400,1401,1402,1403,1404,1405,1406,1407,1408,1409,1410,1411,1412,1413,1414,1415,1416,1417,1418,1419,1420,1421,1422,1423,1424,1425,1426,1427,1428,1429,1430,1431,1432,1433,1434,1435,1436,1437,1438,1439,1440,1441,1442,1443,1444,1445,1446,1447,1448,1449,1450,1451,1452,1453,1454,1455,1456,1457,1458,1459,1460,1461,1462,1463,1464,1465,1466,1467,1468,1469,1470,1471,1472,1473,1474,1475,1476,1477,1478,1479,1480,1481,1482,1483,1484,1485,1486,1487,1488,1489,1490,1491,1492,1493,1494,1495,1496,1497,1498,1499,1500,1501,1502,1503,1504,1505,1506,1507,1508,1509,1510,1511,1512,1513,1514,1515,1516,1517,1518,1519,1520,1521,1522,1523,1524,1525,1526,1527,1528,1529,1530,1531,1532,1533,1534,1535,1536,1537,1538,1539,1540,1541,1542,1543,1544,1545,1546,1547,1548,1549,1550,1551,1552,1553,1554,1555,1556,1557,1558,1559,1560,1561,1562,1563,1564,1565,1566,1567,1568,1569,1570,1571,1572,1573,1574,1575,1576,1577,1578,1579,1580,1581,1582,1583,1584,1585,1586,1587,1588,1589,1590,1591,1592,1593,1594,1595,1596,1597,1598,1599,1600,1601,1602,1603,1604,1605,1606,1607,1608,1609,1610,1611,1612,1613,1614,1615,1616,1617,1618,1619,1620,1621,1622,1623,1624,1625,1626,1627,1628,1629,1630,1631,1632,1633,1634,1635,1636,1637,1638,1639,1640,1641,1642,1643,1644,1645,1646,1647,1648,1649,1650,1651,1652,1653,1654,1655,1656,1657,1658,1659,1660,1661,1662,1663,1664,1665,1666,1667,1668,1669,1670,1671,1672,1673,1674,1675,1676,1677,1678,1679,1680,1681,1682,1683,1684,1685,1686,1687,1688,1689,1690,1691,1692,1693,1694,1695,1696,1697,1698,1699,1700,1701,1702,1703,1704,1705,1706,1707,1708,1709,1710,1711,1712,1713,1714,1715,1716,1717,1718,1719,1720,1721,1722,1723,1724,1725,1726,1727,1728,1729,1730,1731,1732,1733,1734,1735,1736,1737,1738,1739,1740,1741,1742,1743,1744,1745,1746,1747,1748,1749,1750,1751,1752,1753,1754,1755,1756,1757,1758,1759,1760,1761,1762,1763,1764,1765,1766,1767,1768,1769,1770,1771,1772,1773,1774,1775,1776,1777,1778,1779,1780,1781,1782,1783,1784,1785,1786,1787,1788,1789,1790,1791,1792,1793,1794,1795,1796,1797,1798,1799,1800,1801,1802,1803,1804,1805,1806,1807,1808,1809,1810,1811,1812,1813,1814,1815,1816,1817,1818,1819,1820,1821,1822,1823,1824,1825,1826,1827,1828,1829,1830,1831,1832,1833,1834,1835,1836,1837,1838,1839,1840,1841,1842,1843,1844,1845,1846,1847,1848,1849,1850,1851,1852,1853,1854,1855,1856,1857,1858,1859,1860,1861,1862,1863,1864,1865,1866,1867,1868,1869,1870,1871,1872,1873,1874,1875,1876,1877,1878,1879,1880,1881,1882,1883,1884,1885,1886,1887,1888,1889,1890,1891,1892,1893,1894,1895,1896,1897,1898,1899,1900,1901,1902,1903,1904,1905,1906,1907,1908,1909,1910,1911,1912,1913,1914,1915,1916,1917,1918,1919,1920,1921,1922,1923,1924,1925,1926,1927,1928,1929,1930,1931,1932,1933,1934,1935,1936,1937,1938,1939,1940,1941,1942,1943,1944,1945,1946,1947,1948,1949,1950,1951,1952,1953,1954,1955,1956,1957,1958,1959,1960,1961,1962,1963,1964,1965,1966,1967,1968,1969,1970,1971,1972,1973,1974,1975,1976,1977,1978,1979,1980,1981,1982,1983,1984,1985,1986,1987,1988,1989,1990,1991,1992,1993,1994,1995,1996,1997,1998,1999,2000,2001,2002,2003,2004,2005,2006,2007,2008,2009,2010,2011,2012,2013,2014,2015,2016,2017,2018,2019,2020,2021,2022,2023,2024,2025,2026,2027,2028,2029,2030,2031,2032,2033,2034,2035,2036,2037,2038,2039,2040,2041,2042,2043,2044,2045,2046,2047,2048,2049,2050,2051,2052,2053,2054,2055,2056,2057,2058,2059,2060,2061,2062,2063,2064,2065,2066,2067,2068,2069,2070,2071,2072,2073,2074,2075,2076,2077,2078,2079,2080,2081,2082,2083,2084,2085,2086,2087,2088,2089,2090,2091,2092,2093,2094,2095,2096,2097,2098,2099,2100,2101,2102,2103,2104,2105,2106,2107,2108,2109,2110,2111,2112,2113,2114,2115,2116,2117,2118,2119,2120,2121,2122,2123,2124,2125,2126,2127,2128,2129,2130,2131,2132,2133,2134,2135,2136,2137,2138,2139,2140,2141,2142,2143,2144,2145,2146,2147,2148,2149,2150,2151,2152,2153,2154,2155,2156,2157,2158,2159,2160,2161,2162,2163,2164,2165,2166,2167,2168,2169,2170,2171,2172,2173,2174,2175,2176,2177,2178,2179,2180,2181,2182,2183,2184,2185,2186,2187,2188,2189,2190,2191,2192,2193,2194,2195,2196,2197,2198,2199,2200,2201,2202,2203,2204,2205,2206,2207,2208,2209,2210,2211,2212,2213,2214,2215,2216,2217,2218,2219,2220,2221,2222,2223,2224,2225,2226,2227,2228,2229,2230,2231,2232,2233,2234,2235,2236,2237,2238,2239,2240,2241,2242,2243,2244,2245,2246,2247,2248,2249,2250,2251,2252,2253,2254,2255,2256,2257,2258,2259,2260,2261,2262,2263,2264,2265,2266,2267,2268,2269,2270,2271,2272,2273,2274,2275,2276,2277,2278,2279,2280,2281,2282,2283,2284,2285,2286,2287,2288,2289,2290,2291,2292,2293,2294,2295,2296,2297,2298,2299,2300,2301,2302,2303,2304,2305,2306,2307,2308,2309,2310,2311,2312,2313,2314,2315,2316,2317,2318,2319,2320,2321,2322,2323,2324,2325,2326,2327,2328,2329,2330,2331,2332,2333,2334,2335,2336,2337,2338,2339,2340,2341,2342,2343,2344,2345,2346,2347,2348,2349,2350,2351,2352,4339,5217) have mixed types.Specify dtype option on import or set low_memory=False.\n",
      "  has_raised = await self.run_ast_nodes(code_ast.body, cell_name,\n"
     ]
    }
   ],
   "source": [
    "taxa = pd.read_csv(\"../data/Clean_data/Microbiome_taxa.csv\")\n",
    "meta = pd.read_csv(\"../data/Clean_data/Microbiome_meta.csv\")"
   ]
  },
  {
   "cell_type": "code",
   "execution_count": 55,
   "metadata": {},
   "outputs": [
    {
     "name": "stdout",
     "output_type": "stream",
     "text": [
      "The DataFrame \"meta\" has 4314 duplicates in the \"#SampleID\" column.\n"
     ]
    }
   ],
   "source": [
    "duplicates = meta[meta.duplicated(subset='#SampleID', keep='first')]\n",
    "\n",
    "duplicate_count = len(duplicates)\n",
    "\n",
    "print(f'The DataFrame \"meta\" has {duplicate_count} duplicates in the \"#SampleID\" column.')"
   ]
  },
  {
   "cell_type": "code",
   "execution_count": 56,
   "metadata": {},
   "outputs": [
    {
     "name": "stdout",
     "output_type": "stream",
     "text": [
      "                 #OTU ID  \\\n",
      "0         100052.1246453   \n",
      "1         100052.1246453   \n",
      "2         100052.1246453   \n",
      "3         100052.1246453   \n",
      "4         100216.1246217   \n",
      "...                  ...   \n",
      "5427  SKBTI.0692.1246233   \n",
      "5428  SKBTI.0362.1246358   \n",
      "5429  SKBTI.0362.1246358   \n",
      "5430  SKBTI.0362.1246358   \n",
      "5431  SKBTI.0362.1246358   \n",
      "\n",
      "      k__Bacteria;p__Bacteroidetes;c__Bacteroidia;o__Bacteroidales;f__Bacteroidaceae;g__Bacteroides  \\\n",
      "0                                                   826                                               \n",
      "1                                                   826                                               \n",
      "2                                                   826                                               \n",
      "3                                                   826                                               \n",
      "4                                                   936                                               \n",
      "...                                                 ...                                               \n",
      "5427                                                  0                                               \n",
      "5428                                                  0                                               \n",
      "5429                                                  0                                               \n",
      "5430                                                  0                                               \n",
      "5431                                                  0                                               \n",
      "\n",
      "      k__Bacteria;p__Actinobacteria;c__Coriobacteriia;o__Coriobacteriales;f__Coriobacteriaceae;g__Collinsella;s__Collinsella aerofaciens  \\\n",
      "0                                                   151                                                                                    \n",
      "1                                                   151                                                                                    \n",
      "2                                                   151                                                                                    \n",
      "3                                                   151                                                                                    \n",
      "4                                                   104                                                                                    \n",
      "...                                                 ...                                                                                    \n",
      "5427                                                  0                                                                                    \n",
      "5428                                                  0                                                                                    \n",
      "5429                                                  0                                                                                    \n",
      "5430                                                  0                                                                                    \n",
      "5431                                                  0                                                                                    \n",
      "\n",
      "      k__Bacteria;p__Actinobacteria;c__Actinobacteria;o__Bifidobacteriales;f__Bifidobacteriaceae;g__Bifidobacterium  \\\n",
      "0                                                    19                                                               \n",
      "1                                                    19                                                               \n",
      "2                                                    19                                                               \n",
      "3                                                    19                                                               \n",
      "4                                                    99                                                               \n",
      "...                                                 ...                                                               \n",
      "5427                                                  0                                                               \n",
      "5428                                                  0                                                               \n",
      "5429                                                  0                                                               \n",
      "5430                                                  0                                                               \n",
      "5431                                                  0                                                               \n",
      "\n",
      "      k__Bacteria  \\\n",
      "0               1   \n",
      "1               1   \n",
      "2               1   \n",
      "3               1   \n",
      "4              70   \n",
      "...           ...   \n",
      "5427            0   \n",
      "5428            1   \n",
      "5429            1   \n",
      "5430            1   \n",
      "5431            1   \n",
      "\n",
      "      k__Archaea;p__Euryarchaeota;c__Methanobacteria;o__Methanobacteriales;f__Methanobacteriaceae;g__Methanobrevibacter;s__Methanobrevibacter smithii;t__Methanobrevibacter smithii ATCC 35061  \\\n",
      "0                                                     0                                                                                                                                          \n",
      "1                                                     0                                                                                                                                          \n",
      "2                                                     0                                                                                                                                          \n",
      "3                                                     0                                                                                                                                          \n",
      "4                                                     0                                                                                                                                          \n",
      "...                                                 ...                                                                                                                                          \n",
      "5427                                                  0                                                                                                                                          \n",
      "5428                                                  0                                                                                                                                          \n",
      "5429                                                  0                                                                                                                                          \n",
      "5430                                                  0                                                                                                                                          \n",
      "5431                                                  0                                                                                                                                          \n",
      "\n",
      "      k__Archaea;p__Euryarchaeota;c__Methanobacteria;o__Methanobacteriales;f__Methanobacteriaceae;g__Methanobrevibacter;s__Methanobrevibacter smithii  \\\n",
      "0                                                     0                                                                                                 \n",
      "1                                                     0                                                                                                 \n",
      "2                                                     0                                                                                                 \n",
      "3                                                     0                                                                                                 \n",
      "4                                                     0                                                                                                 \n",
      "...                                                 ...                                                                                                 \n",
      "5427                                                  0                                                                                                 \n",
      "5428                                                  0                                                                                                 \n",
      "5429                                                  0                                                                                                 \n",
      "5430                                                  0                                                                                                 \n",
      "5431                                                  0                                                                                                 \n",
      "\n",
      "      k__Archaea;p__Euryarchaeota;c__Methanobacteria;o__Methanobacteriales;f__Methanobacteriaceae;g__Methanobacterium  \\\n",
      "0                                                     0                                                                 \n",
      "1                                                     0                                                                 \n",
      "2                                                     0                                                                 \n",
      "3                                                     0                                                                 \n",
      "4                                                     0                                                                 \n",
      "...                                                 ...                                                                 \n",
      "5427                                                  0                                                                 \n",
      "5428                                                  0                                                                 \n",
      "5429                                                  0                                                                 \n",
      "5430                                                  0                                                                 \n",
      "5431                                                  0                                                                 \n",
      "\n",
      "      k__Archaea;p__Euryarchaeota;c__Methanobacteria;o__Methanobacteriales;f__Methanobacteriaceae;g__Methanobacterium;s__Methanobacterium petrolearium  \\\n",
      "0                                                     0                                                                                                  \n",
      "1                                                     0                                                                                                  \n",
      "2                                                     0                                                                                                  \n",
      "3                                                     0                                                                                                  \n",
      "4                                                     0                                                                                                  \n",
      "...                                                 ...                                                                                                  \n",
      "5427                                                  0                                                                                                  \n",
      "5428                                                  0                                                                                                  \n",
      "5429                                                  0                                                                                                  \n",
      "5430                                                  0                                                                                                  \n",
      "5431                                                  0                                                                                                  \n",
      "\n",
      "      k__Archaea;p__Euryarchaeota;c__Methanobacteria;o__Methanobacteriales;f__Methanobacteriaceae;g__Methanosphaera;s__Methanosphaera stadtmanae;t__Methanosphaera stadtmanae DSM 3091  \\\n",
      "0                                                     0                                                                                                                                  \n",
      "1                                                     0                                                                                                                                  \n",
      "2                                                     0                                                                                                                                  \n",
      "3                                                     0                                                                                                                                  \n",
      "4                                                     0                                                                                                                                  \n",
      "...                                                 ...                                                                                                                                  \n",
      "5427                                                  0                                                                                                                                  \n",
      "5428                                                  0                                                                                                                                  \n",
      "5429                                                  0                                                                                                                                  \n",
      "5430                                                  0                                                                                                                                  \n",
      "5431                                                  0                                                                                                                                  \n",
      "\n",
      "      ...  ILEAL_INVOVLEMENT  REGION  RUN_CENTER  \\\n",
      "0     ...                 no    None          BI   \n",
      "1     ...                 no    None          BI   \n",
      "2     ...                 no    None          BI   \n",
      "3     ...                 no    None          BI   \n",
      "4     ...                 no    None          BI   \n",
      "...   ...                ...     ...         ...   \n",
      "5427  ...                 no    None          BI   \n",
      "5428  ...                yes    None          BI   \n",
      "5429  ...                yes    None          BI   \n",
      "5430  ...                yes    None          BI   \n",
      "5431  ...                yes    None          BI   \n",
      "\n",
      "                                            PCR_PRIMERS  \\\n",
      "0     FWD:GTGCCAGCMGCCGCGGTAA; REV:GGACTACHVGGGTWTCTAAT   \n",
      "1     FWD:GTGCCAGCMGCCGCGGTAA; REV:GGACTACHVGGGTWTCTAAT   \n",
      "2     FWD:GTGCCAGCMGCCGCGGTAA; REV:GGACTACHVGGGTWTCTAAT   \n",
      "3     FWD:GTGCCAGCMGCCGCGGTAA; REV:GGACTACHVGGGTWTCTAAT   \n",
      "4     FWD:GTGCCAGCMGCCGCGGTAA; REV:GGACTACHVGGGTWTCTAAT   \n",
      "...                                                 ...   \n",
      "5427  FWD:GTGCCAGCMGCCGCGGTAA; REV:GGACTACHVGGGTWTCTAAT   \n",
      "5428  FWD:GTGCCAGCMGCCGCGGTAA; REV:GGACTACHVGGGTWTCTAAT   \n",
      "5429  FWD:GTGCCAGCMGCCGCGGTAA; REV:GGACTACHVGGGTWTCTAAT   \n",
      "5430  FWD:GTGCCAGCMGCCGCGGTAA; REV:GGACTACHVGGGTWTCTAAT   \n",
      "5431  FWD:GTGCCAGCMGCCGCGGTAA; REV:GGACTACHVGGGTWTCTAAT   \n",
      "\n",
      "                          LIBRARY_CONSTRUCTION_PROTOCOL  GASTROINTEST_DISORD  \\\n",
      "0     This analysis was done as in Caporaso et al 20...                   CD   \n",
      "1     This analysis was done as in Caporaso et al 20...                   CD   \n",
      "2     This analysis was done as in Caporaso et al 20...                   CD   \n",
      "3     This analysis was done as in Caporaso et al 20...                   CD   \n",
      "4     This analysis was done as in Caporaso et al 20...                   UC   \n",
      "...                                                 ...                  ...   \n",
      "5427  This analysis was done as in Caporaso et al 20...                   UC   \n",
      "5428  This analysis was done as in Caporaso et al 20...                   CD   \n",
      "5429  This analysis was done as in Caporaso et al 20...                   CD   \n",
      "5430  This analysis was done as in Caporaso et al 20...                   CD   \n",
      "5431  This analysis was done as in Caporaso et al 20...                   CD   \n",
      "\n",
      "      LATITUDE  EXTERNAL_ID  Description_duplicate  Description  \n",
      "0       42.358       100052         OR100052 stool    CCFA_RISK  \n",
      "1       42.358       100052         OR100052 stool    CCFA_RISK  \n",
      "2       42.358       100052         OR100052 stool    CCFA_RISK  \n",
      "3       42.358       100052         OR100052 stool    CCFA_RISK  \n",
      "4       42.358       100216         OR100216 stool    CCFA_RISK  \n",
      "...        ...          ...                    ...          ...  \n",
      "5427    42.358   SKBTI.0692         M1-0337 biopsy    CCFA_RISK  \n",
      "5428    42.358   SKBTI.0362         M1-0104 biopsy    CCFA_RISK  \n",
      "5429    42.358   SKBTI.0362         M1-0104 biopsy    CCFA_RISK  \n",
      "5430    42.358   SKBTI.0362         M1-0104 biopsy    CCFA_RISK  \n",
      "5431    42.358   SKBTI.0362         M1-0104 biopsy    CCFA_RISK  \n",
      "\n",
      "[5432 rows x 6165 columns]\n"
     ]
    }
   ],
   "source": [
    "common_values_df = taxa.merge(meta, left_on='#OTU ID', right_on='#SampleID')\n",
    "\n",
    "# Display the resulting DataFrame with common values\n",
    "print(common_values_df)"
   ]
  }
 ],
 "metadata": {
  "kernelspec": {
   "display_name": "Python 3",
   "language": "python",
   "name": "python3"
  },
  "language_info": {
   "codemirror_mode": {
    "name": "ipython",
    "version": 3
   },
   "file_extension": ".py",
   "mimetype": "text/x-python",
   "name": "python",
   "nbconvert_exporter": "python",
   "pygments_lexer": "ipython3",
   "version": "3.8.8"
  }
 },
 "nbformat": 4,
 "nbformat_minor": 2
}
